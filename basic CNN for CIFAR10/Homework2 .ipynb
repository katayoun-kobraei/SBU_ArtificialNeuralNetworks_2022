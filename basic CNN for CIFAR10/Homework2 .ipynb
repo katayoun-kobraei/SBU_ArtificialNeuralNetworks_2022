{
  "nbformat": 4,
  "nbformat_minor": 0,
  "metadata": {
    "colab": {
      "provenance": []
    },
    "kernelspec": {
      "name": "python3",
      "display_name": "Python 3"
    },
    "language_info": {
      "name": "python"
    },
    "gpuClass": "standard",
    "accelerator": "GPU"
  },
  "cells": [
    {
      "cell_type": "markdown",
      "source": [
        "\n",
        "# **Homework 2 - Implementing a CNN for CIFAR-10 dataset**\n"
      ],
      "metadata": {
        "id": "_9AEBLn3YXLO"
      }
    },
    {
      "cell_type": "markdown",
      "source": [
        "##**Part1 - implemention of a basic convolutional neural network**"
      ],
      "metadata": {
        "id": "RgXBR3usJbzq"
      }
    },
    {
      "cell_type": "markdown",
      "source": [
        "##Importing needed libraries"
      ],
      "metadata": {
        "id": "13xud-_6GKYC"
      }
    },
    {
      "cell_type": "code",
      "source": [
        "import tensorflow as tf\n",
        "import pandas as pd\n",
        "import numpy as np\n",
        "import matplotlib.pyplot as plt\n",
        "%matplotlib inline"
      ],
      "metadata": {
        "id": "Gm0IJIa7YrQ-"
      },
      "execution_count": 2,
      "outputs": []
    },
    {
      "cell_type": "markdown",
      "source": [
        "##loading dataset"
      ],
      "metadata": {
        "id": "OmyfcdnpGlBc"
      }
    },
    {
      "cell_type": "code",
      "source": [
        "(X_trainData, Y_trainData), (X_testData, Y_testData) = tf.keras.datasets.cifar10.load_data()"
      ],
      "metadata": {
        "id": "R7LhRotQejNG"
      },
      "execution_count": 3,
      "outputs": []
    },
    {
      "cell_type": "markdown",
      "source": [
        "##Reshape dataset\n",
        "###convert labels to one-hot encoding"
      ],
      "metadata": {
        "id": "NmeCMuGlGwMc"
      }
    },
    {
      "cell_type": "code",
      "source": [
        "from tensorflow.keras.utils import to_categorical"
      ],
      "metadata": {
        "id": "c4bSHbSBfc0w"
      },
      "execution_count": 4,
      "outputs": []
    },
    {
      "cell_type": "code",
      "source": [
        "cat_y_trainData = to_categorical(Y_trainData, num_classes=10)\n",
        "cat_y_testData = to_categorical(Y_testData, num_classes=10)"
      ],
      "metadata": {
        "id": "gnKnIMzhffBi"
      },
      "execution_count": 5,
      "outputs": []
    },
    {
      "cell_type": "markdown",
      "source": [
        "##Normalization\n",
        "between 0 , 1 and float32"
      ],
      "metadata": {
        "id": "27FKKXR-HGlt"
      }
    },
    {
      "cell_type": "code",
      "source": [
        "X_trainData = X_trainData.astype(np.float32) / 255.0\n",
        "X_testData = X_testData.astype(np.float32) / 255.0"
      ],
      "metadata": {
        "id": "iaxznREnHTH2"
      },
      "execution_count": 6,
      "outputs": []
    },
    {
      "cell_type": "markdown",
      "source": [
        "##Creat our basic CNN model with stacking convelution and pooling layer\n",
        "###importing layers and models"
      ],
      "metadata": {
        "id": "dHKA_gC0HZOE"
      }
    },
    {
      "cell_type": "code",
      "source": [
        "from tensorflow.keras.models import Model\n",
        "from tensorflow.keras.layers import Input, Dense, Dropout, MaxPool2D, Conv2D, Flatten, GlobalAveragePooling2D, ReLU, Activation"
      ],
      "metadata": {
        "id": "YOWqlrzbHtTR"
      },
      "execution_count": 11,
      "outputs": []
    },
    {
      "cell_type": "markdown",
      "source": [
        "###creating the model"
      ],
      "metadata": {
        "id": "FFmSNY9BHt_Y"
      }
    },
    {
      "cell_type": "code",
      "source": [
        "input = Input(shape=(32, 32, 3))\n",
        "\n",
        "x = Conv2D(32, (3, 3), activation='relu', padding='same')(input)\n",
        "x = Conv2D(32, (3, 3), activation='relu', padding='same')(x)\n",
        "x = MaxPool2D((2, 2))(x)\n",
        " \n",
        "x = Conv2D(64, (3, 3), activation='relu', padding='same')(x)\n",
        "x = Conv2D(64, (3, 3), activation='relu', padding='same')(x)\n",
        "x = MaxPool2D((2, 2))(x)\n",
        " \n",
        "x = Conv2D(128, (3, 3), activation='relu', padding='same')(x)\n",
        "x = Conv2D(128, (3, 3), activation='relu', padding='same')(x)\n",
        "x = MaxPool2D((2, 2))(x)\n",
        "\n",
        "x = Flatten()(x)\n",
        "x = Dropout(0.2)(x)\n",
        "\n",
        "x = Dense(units=128)(x)\n",
        "x = ReLU()(x)\n",
        "\n",
        "x = Dense(units=10)(x)\n",
        "predictions = Activation(activation='softmax')(x)\n",
        "\n",
        "\n",
        "our_CNN_model = Model(input, predictions)"
      ],
      "metadata": {
        "id": "BYplD490Hv_z"
      },
      "execution_count": 12,
      "outputs": []
    },
    {
      "cell_type": "markdown",
      "source": [
        "###print summary"
      ],
      "metadata": {
        "id": "ty1q_NYFHwX-"
      }
    },
    {
      "cell_type": "code",
      "source": [
        "our_CNN_model.summary()"
      ],
      "metadata": {
        "colab": {
          "base_uri": "https://localhost:8080/"
        },
        "id": "QE6JaWJrHyZv",
        "outputId": "224ed93b-59c8-4649-be9d-974318dfb279"
      },
      "execution_count": 8,
      "outputs": [
        {
          "output_type": "stream",
          "name": "stdout",
          "text": [
            "Model: \"model\"\n",
            "_________________________________________________________________\n",
            " Layer (type)                Output Shape              Param #   \n",
            "=================================================================\n",
            " input_1 (InputLayer)        [(None, 32, 32, 3)]       0         \n",
            "                                                                 \n",
            " conv2d (Conv2D)             (None, 32, 32, 32)        896       \n",
            "                                                                 \n",
            " conv2d_1 (Conv2D)           (None, 32, 32, 32)        9248      \n",
            "                                                                 \n",
            " max_pooling2d (MaxPooling2D  (None, 16, 16, 32)       0         \n",
            " )                                                               \n",
            "                                                                 \n",
            " conv2d_2 (Conv2D)           (None, 16, 16, 64)        18496     \n",
            "                                                                 \n",
            " conv2d_3 (Conv2D)           (None, 16, 16, 64)        36928     \n",
            "                                                                 \n",
            " max_pooling2d_1 (MaxPooling  (None, 8, 8, 64)         0         \n",
            " 2D)                                                             \n",
            "                                                                 \n",
            " conv2d_4 (Conv2D)           (None, 8, 8, 128)         73856     \n",
            "                                                                 \n",
            " conv2d_5 (Conv2D)           (None, 8, 8, 128)         147584    \n",
            "                                                                 \n",
            " max_pooling2d_2 (MaxPooling  (None, 4, 4, 128)        0         \n",
            " 2D)                                                             \n",
            "                                                                 \n",
            " flatten (Flatten)           (None, 2048)              0         \n",
            "                                                                 \n",
            " dropout (Dropout)           (None, 2048)              0         \n",
            "                                                                 \n",
            " dense (Dense)               (None, 128)               262272    \n",
            "                                                                 \n",
            " re_lu (ReLU)                (None, 128)               0         \n",
            "                                                                 \n",
            " dense_1 (Dense)             (None, 10)                1290      \n",
            "                                                                 \n",
            " activation (Activation)     (None, 10)                0         \n",
            "                                                                 \n",
            "=================================================================\n",
            "Total params: 550,570\n",
            "Trainable params: 550,570\n",
            "Non-trainable params: 0\n",
            "_________________________________________________________________\n"
          ]
        }
      ]
    },
    {
      "cell_type": "markdown",
      "source": [
        "##Compile the model with optimizer and loss function\n"
      ],
      "metadata": {
        "id": "rKkEQpLMHzLI"
      }
    },
    {
      "cell_type": "code",
      "source": [
        "our_CNN_model.compile(optimizer='adam', loss='categorical_crossentropy', metrics=['accuracy'])"
      ],
      "metadata": {
        "id": "2RYL4OxIlHzc"
      },
      "execution_count": 9,
      "outputs": []
    },
    {
      "cell_type": "markdown",
      "source": [
        "##Train the model "
      ],
      "metadata": {
        "id": "YCdgrw9Oln8I"
      }
    },
    {
      "cell_type": "code",
      "source": [
        "our_CNN_model.fit(x=X_trainData, y=cat_y_trainData, epochs=35, batch_size=32,\n",
        "              validation_data=(X_testData, cat_y_testData))"
      ],
      "metadata": {
        "colab": {
          "base_uri": "https://localhost:8080/"
        },
        "id": "g3BXANB8ly9u",
        "outputId": "02937dac-f365-4b02-85aa-2e1d5f1fcbca"
      },
      "execution_count": 11,
      "outputs": [
        {
          "output_type": "stream",
          "name": "stdout",
          "text": [
            "Epoch 1/35\n",
            "1563/1563 [==============================] - 10s 6ms/step - loss: 0.5774 - accuracy: 0.7987 - val_loss: 0.7502 - val_accuracy: 0.7504\n",
            "Epoch 2/35\n",
            "1563/1563 [==============================] - 9s 6ms/step - loss: 0.5058 - accuracy: 0.8207 - val_loss: 0.7140 - val_accuracy: 0.7621\n",
            "Epoch 3/35\n",
            "1563/1563 [==============================] - 10s 6ms/step - loss: 0.4547 - accuracy: 0.8395 - val_loss: 0.7264 - val_accuracy: 0.7653\n",
            "Epoch 4/35\n",
            "1563/1563 [==============================] - 10s 6ms/step - loss: 0.4033 - accuracy: 0.8581 - val_loss: 0.7320 - val_accuracy: 0.7683\n",
            "Epoch 5/35\n",
            "1563/1563 [==============================] - 10s 6ms/step - loss: 0.3726 - accuracy: 0.8688 - val_loss: 0.7732 - val_accuracy: 0.7644\n",
            "Epoch 6/35\n",
            "1563/1563 [==============================] - 10s 6ms/step - loss: 0.3430 - accuracy: 0.8766 - val_loss: 0.8068 - val_accuracy: 0.7651\n",
            "Epoch 7/35\n",
            "1563/1563 [==============================] - 9s 6ms/step - loss: 0.3132 - accuracy: 0.8892 - val_loss: 0.8022 - val_accuracy: 0.7694\n",
            "Epoch 8/35\n",
            "1563/1563 [==============================] - 10s 6ms/step - loss: 0.2925 - accuracy: 0.8973 - val_loss: 0.8084 - val_accuracy: 0.7692\n",
            "Epoch 9/35\n",
            "1563/1563 [==============================] - 10s 6ms/step - loss: 0.2715 - accuracy: 0.9037 - val_loss: 0.8489 - val_accuracy: 0.7678\n",
            "Epoch 10/35\n",
            "1563/1563 [==============================] - 9s 6ms/step - loss: 0.2578 - accuracy: 0.9087 - val_loss: 0.8871 - val_accuracy: 0.7608\n",
            "Epoch 11/35\n",
            "1563/1563 [==============================] - 9s 6ms/step - loss: 0.2487 - accuracy: 0.9108 - val_loss: 0.8877 - val_accuracy: 0.7625\n",
            "Epoch 12/35\n",
            "1563/1563 [==============================] - 9s 6ms/step - loss: 0.2357 - accuracy: 0.9175 - val_loss: 0.8619 - val_accuracy: 0.7718\n",
            "Epoch 13/35\n",
            "1563/1563 [==============================] - 9s 6ms/step - loss: 0.2270 - accuracy: 0.9205 - val_loss: 0.8984 - val_accuracy: 0.7717\n",
            "Epoch 14/35\n",
            "1563/1563 [==============================] - 10s 6ms/step - loss: 0.2138 - accuracy: 0.9248 - val_loss: 0.9761 - val_accuracy: 0.7628\n",
            "Epoch 15/35\n",
            "1563/1563 [==============================] - 9s 6ms/step - loss: 0.2141 - accuracy: 0.9258 - val_loss: 0.9343 - val_accuracy: 0.7683\n",
            "Epoch 16/35\n",
            "1563/1563 [==============================] - 9s 6ms/step - loss: 0.2057 - accuracy: 0.9284 - val_loss: 0.9818 - val_accuracy: 0.7682\n",
            "Epoch 17/35\n",
            "1563/1563 [==============================] - 9s 6ms/step - loss: 0.2045 - accuracy: 0.9293 - val_loss: 0.9876 - val_accuracy: 0.7516\n",
            "Epoch 18/35\n",
            "1563/1563 [==============================] - 9s 6ms/step - loss: 0.1984 - accuracy: 0.9322 - val_loss: 0.9630 - val_accuracy: 0.7607\n",
            "Epoch 19/35\n",
            "1563/1563 [==============================] - 10s 6ms/step - loss: 0.1869 - accuracy: 0.9361 - val_loss: 0.9758 - val_accuracy: 0.7687\n",
            "Epoch 20/35\n",
            "1563/1563 [==============================] - 10s 6ms/step - loss: 0.1946 - accuracy: 0.9348 - val_loss: 1.0325 - val_accuracy: 0.7730\n",
            "Epoch 21/35\n",
            "1563/1563 [==============================] - 9s 6ms/step - loss: 0.1823 - accuracy: 0.9378 - val_loss: 1.0373 - val_accuracy: 0.7714\n",
            "Epoch 22/35\n",
            "1563/1563 [==============================] - 9s 6ms/step - loss: 0.1845 - accuracy: 0.9387 - val_loss: 1.0563 - val_accuracy: 0.7675\n",
            "Epoch 23/35\n",
            "1563/1563 [==============================] - 10s 6ms/step - loss: 0.1778 - accuracy: 0.9403 - val_loss: 1.0980 - val_accuracy: 0.7718\n",
            "Epoch 24/35\n",
            "1563/1563 [==============================] - 9s 6ms/step - loss: 0.1749 - accuracy: 0.9420 - val_loss: 1.0822 - val_accuracy: 0.7700\n",
            "Epoch 25/35\n",
            "1563/1563 [==============================] - 10s 6ms/step - loss: 0.1734 - accuracy: 0.9416 - val_loss: 1.1625 - val_accuracy: 0.7600\n",
            "Epoch 26/35\n",
            "1563/1563 [==============================] - 10s 6ms/step - loss: 0.1721 - accuracy: 0.9430 - val_loss: 1.0877 - val_accuracy: 0.7719\n",
            "Epoch 27/35\n",
            "1563/1563 [==============================] - 10s 6ms/step - loss: 0.1679 - accuracy: 0.9446 - val_loss: 1.0801 - val_accuracy: 0.7678\n",
            "Epoch 28/35\n",
            "1563/1563 [==============================] - 10s 6ms/step - loss: 0.1664 - accuracy: 0.9443 - val_loss: 1.0667 - val_accuracy: 0.7694\n",
            "Epoch 29/35\n",
            "1563/1563 [==============================] - 10s 6ms/step - loss: 0.1682 - accuracy: 0.9439 - val_loss: 1.1349 - val_accuracy: 0.7716\n",
            "Epoch 30/35\n",
            "1563/1563 [==============================] - 9s 6ms/step - loss: 0.1640 - accuracy: 0.9461 - val_loss: 1.0984 - val_accuracy: 0.7685\n",
            "Epoch 31/35\n",
            "1563/1563 [==============================] - 9s 6ms/step - loss: 0.1655 - accuracy: 0.9458 - val_loss: 1.0841 - val_accuracy: 0.7652\n",
            "Epoch 32/35\n",
            "1563/1563 [==============================] - 10s 6ms/step - loss: 0.1633 - accuracy: 0.9465 - val_loss: 1.1554 - val_accuracy: 0.7633\n",
            "Epoch 33/35\n",
            "1563/1563 [==============================] - 9s 6ms/step - loss: 0.1571 - accuracy: 0.9487 - val_loss: 1.1518 - val_accuracy: 0.7773\n",
            "Epoch 34/35\n",
            "1563/1563 [==============================] - 9s 6ms/step - loss: 0.1617 - accuracy: 0.9460 - val_loss: 1.2089 - val_accuracy: 0.7521\n",
            "Epoch 35/35\n",
            "1563/1563 [==============================] - 10s 6ms/step - loss: 0.1545 - accuracy: 0.9502 - val_loss: 1.2077 - val_accuracy: 0.7678\n"
          ]
        },
        {
          "output_type": "execute_result",
          "data": {
            "text/plain": [
              "<keras.callbacks.History at 0x7f478e337b50>"
            ]
          },
          "metadata": {},
          "execution_count": 11
        }
      ]
    },
    {
      "cell_type": "markdown",
      "source": [
        "###plot model loss history"
      ],
      "metadata": {
        "id": "H0GQ6Lqnk3Bn"
      }
    },
    {
      "cell_type": "code",
      "source": [
        "plot_history = pd.DataFrame(our_CNN_model.history.history)\n",
        "plot_history[['loss', 'val_loss']].plot()"
      ],
      "metadata": {
        "colab": {
          "base_uri": "https://localhost:8080/",
          "height": 282
        },
        "id": "qXxZf2y7Iehk",
        "outputId": "2f86d96c-efdb-4c2c-95c5-c87b2056029e"
      },
      "execution_count": 12,
      "outputs": [
        {
          "output_type": "execute_result",
          "data": {
            "text/plain": [
              "<matplotlib.axes._subplots.AxesSubplot at 0x7f478e331c50>"
            ]
          },
          "metadata": {},
          "execution_count": 12
        },
        {
          "output_type": "display_data",
          "data": {
            "text/plain": [
              "<Figure size 432x288 with 1 Axes>"
            ],
            "image/png": "[encoded data removed]"
          },
          "metadata": {
            "needs_background": "light"
          }
        }
      ]
    },
    {
      "cell_type": "markdown",
      "source": [
        "###min of loss history"
      ],
      "metadata": {
        "id": "HNnv16oDIfqt"
      }
    },
    {
      "cell_type": "code",
      "source": [
        "np.min(our_CNN_model.history.history['loss'])"
      ],
      "metadata": {
        "colab": {
          "base_uri": "https://localhost:8080/"
        },
        "id": "uS2qs_UEIjRA",
        "outputId": "a2a4d9c3-e450-468d-e5de-8f7a5167c958"
      },
      "execution_count": 13,
      "outputs": [
        {
          "output_type": "execute_result",
          "data": {
            "text/plain": [
              "0.15448826551437378"
            ]
          },
          "metadata": {},
          "execution_count": 13
        }
      ]
    },
    {
      "cell_type": "markdown",
      "source": [
        "###plot model accuracy"
      ],
      "metadata": {
        "id": "iZpWm-GlIpk3"
      }
    },
    {
      "cell_type": "code",
      "source": [
        "plot_history = pd.DataFrame(our_CNN_model.history.history)\n",
        "plot_history[['accuracy', 'val_accuracy']].plot()"
      ],
      "metadata": {
        "colab": {
          "base_uri": "https://localhost:8080/",
          "height": 282
        },
        "id": "5WED7sP-Ite0",
        "outputId": "471a742c-e10b-4726-b30f-cd73a3d0807f"
      },
      "execution_count": 14,
      "outputs": [
        {
          "output_type": "execute_result",
          "data": {
            "text/plain": [
              "<matplotlib.axes._subplots.AxesSubplot at 0x7f478e1cd8d0>"
            ]
          },
          "metadata": {},
          "execution_count": 14
        },
        {
          "output_type": "display_data",
          "data": {
            "text/plain": [
              "<Figure size 432x288 with 1 Axes>"
            ],
            "image/png": "[encoded data removed]"
          },
          "metadata": {
            "needs_background": "light"
          }
        }
      ]
    },
    {
      "cell_type": "markdown",
      "source": [
        "###max of validation accuracy"
      ],
      "metadata": {
        "id": "0f15YyN6JD5j"
      }
    },
    {
      "cell_type": "code",
      "source": [
        "np.max(our_CNN_model.history.history['val_accuracy'])"
      ],
      "metadata": {
        "colab": {
          "base_uri": "https://localhost:8080/"
        },
        "id": "3-BguOwFJJvW",
        "outputId": "2beb2141-c429-47a0-c6a7-6185f66384c7"
      },
      "execution_count": 15,
      "outputs": [
        {
          "output_type": "execute_result",
          "data": {
            "text/plain": [
              "0.7773000001907349"
            ]
          },
          "metadata": {},
          "execution_count": 15
        }
      ]
    },
    {
      "cell_type": "markdown",
      "source": [
        "##Evalute the model"
      ],
      "metadata": {
        "id": "TQlavNj3JRPt"
      }
    },
    {
      "cell_type": "code",
      "source": [
        "our_CNN_model.evaluate(X_testData, cat_y_testData)"
      ],
      "metadata": {
        "colab": {
          "base_uri": "https://localhost:8080/"
        },
        "id": "aXggCotHJSLV",
        "outputId": "794893f6-a2fd-4577-826f-8313055f6b12"
      },
      "execution_count": 16,
      "outputs": [
        {
          "output_type": "stream",
          "name": "stdout",
          "text": [
            "313/313 [==============================] - 1s 4ms/step - loss: 1.2077 - accuracy: 0.7678\n"
          ]
        },
        {
          "output_type": "execute_result",
          "data": {
            "text/plain": [
              "[1.2077003717422485, 0.767799973487854]"
            ]
          },
          "metadata": {},
          "execution_count": 16
        }
      ]
    },
    {
      "cell_type": "markdown",
      "source": [
        "##**Part2 - check the effect of layer's depth on the resalut**\n",
        "\n",
        "\n"
      ],
      "metadata": {
        "id": "zp3fFVjBK8Tv"
      }
    },
    {
      "cell_type": "markdown",
      "source": [
        "###We use more hidden layers and GlobalArrangePooling"
      ],
      "metadata": {
        "id": "j0Yx9hVEMq-8"
      }
    },
    {
      "cell_type": "code",
      "source": [
        "input = Input(shape=(32, 32, 3))\n",
        "\n",
        "x = Conv2D(filters=32, kernel_size=(3, 3), strides=1, padding='same')(input)\n",
        "x = ReLU()(x)\n",
        "x = MaxPool2D(pool_size=(2, 2), strides=2, padding='same')(x)\n",
        "\n",
        "x = Conv2D(filters=64, kernel_size=(3, 3), strides=1, padding='same')(x)\n",
        "x = ReLU()(x)\n",
        "x = MaxPool2D(pool_size=(2, 2), strides=2, padding='same')(x) \n",
        "\n",
        " \n",
        "x = Conv2D(filters=128, kernel_size=(3, 3), strides=1, padding='same')(x)\n",
        "x = ReLU()(x)\n",
        "x = MaxPool2D(pool_size=(2, 2), strides=2, padding='same')(x) \n",
        "\n",
        "x = Conv2D(filters=256, kernel_size=(3, 3), strides=1, padding='same')(x)\n",
        "x = ReLU()(x)\n",
        "x = MaxPool2D(pool_size=(2, 2), strides=2, padding='same')(x) \n",
        "\n",
        "x = Conv2D(filters=512, kernel_size=(3, 3), strides=1, padding='same')(x)\n",
        "x = ReLU()(x)\n",
        "x = MaxPool2D(pool_size=(2, 2), strides=2, padding='same')(x) \n",
        "\n",
        "#globalaveragepooling\n",
        "x = GlobalAveragePooling2D()(x)\n",
        "\n",
        "x = Dense(units=128)(x)\n",
        "x = ReLU()(x)\n",
        "\n",
        "x = Dense(units=32)(x)\n",
        "x = ReLU()(x)\n",
        "x = Dense(units=10)(x)\n",
        "predictions = Activation(activation='softmax')(x)\n",
        "\n",
        "\n",
        "our_CNN_model2 = Model(input, predictions)"
      ],
      "metadata": {
        "id": "64DYIRY7tI-c"
      },
      "execution_count": 21,
      "outputs": []
    },
    {
      "cell_type": "markdown",
      "source": [
        "##Getting a summary\n"
      ],
      "metadata": {
        "id": "tMXDOwdLuHJv"
      }
    },
    {
      "cell_type": "code",
      "source": [
        "our_CNN_model2.summary()"
      ],
      "metadata": {
        "colab": {
          "base_uri": "https://localhost:8080/"
        },
        "id": "Dvs7bcXAuGt3",
        "outputId": "fa39e268-a227-4bcc-8bd1-931f8cb3ec11"
      },
      "execution_count": 22,
      "outputs": [
        {
          "output_type": "stream",
          "name": "stdout",
          "text": [
            "Model: \"model_1\"\n",
            "_________________________________________________________________\n",
            " Layer (type)                Output Shape              Param #   \n",
            "=================================================================\n",
            " input_5 (InputLayer)        [(None, 32, 32, 3)]       0         \n",
            "                                                                 \n",
            " conv2d_8 (Conv2D)           (None, 32, 32, 32)        896       \n",
            "                                                                 \n",
            " re_lu_1 (ReLU)              (None, 32, 32, 32)        0         \n",
            "                                                                 \n",
            " max_pooling2d_3 (MaxPooling  (None, 16, 16, 32)       0         \n",
            " 2D)                                                             \n",
            "                                                                 \n",
            " conv2d_9 (Conv2D)           (None, 16, 16, 64)        18496     \n",
            "                                                                 \n",
            " re_lu_2 (ReLU)              (None, 16, 16, 64)        0         \n",
            "                                                                 \n",
            " max_pooling2d_4 (MaxPooling  (None, 8, 8, 64)         0         \n",
            " 2D)                                                             \n",
            "                                                                 \n",
            " conv2d_10 (Conv2D)          (None, 8, 8, 128)         73856     \n",
            "                                                                 \n",
            " re_lu_3 (ReLU)              (None, 8, 8, 128)         0         \n",
            "                                                                 \n",
            " max_pooling2d_5 (MaxPooling  (None, 4, 4, 128)        0         \n",
            " 2D)                                                             \n",
            "                                                                 \n",
            " conv2d_11 (Conv2D)          (None, 4, 4, 256)         295168    \n",
            "                                                                 \n",
            " re_lu_4 (ReLU)              (None, 4, 4, 256)         0         \n",
            "                                                                 \n",
            " max_pooling2d_6 (MaxPooling  (None, 2, 2, 256)        0         \n",
            " 2D)                                                             \n",
            "                                                                 \n",
            " conv2d_12 (Conv2D)          (None, 2, 2, 512)         1180160   \n",
            "                                                                 \n",
            " re_lu_5 (ReLU)              (None, 2, 2, 512)         0         \n",
            "                                                                 \n",
            " max_pooling2d_7 (MaxPooling  (None, 1, 1, 512)        0         \n",
            " 2D)                                                             \n",
            "                                                                 \n",
            " global_average_pooling2d (G  (None, 512)              0         \n",
            " lobalAveragePooling2D)                                          \n",
            "                                                                 \n",
            " dense_2 (Dense)             (None, 128)               65664     \n",
            "                                                                 \n",
            " re_lu_6 (ReLU)              (None, 128)               0         \n",
            "                                                                 \n",
            " dense_3 (Dense)             (None, 32)                4128      \n",
            "                                                                 \n",
            " re_lu_7 (ReLU)              (None, 32)                0         \n",
            "                                                                 \n",
            " dense_4 (Dense)             (None, 10)                330       \n",
            "                                                                 \n",
            " activation_1 (Activation)   (None, 10)                0         \n",
            "                                                                 \n",
            "=================================================================\n",
            "Total params: 1,638,698\n",
            "Trainable params: 1,638,698\n",
            "Non-trainable params: 0\n",
            "_________________________________________________________________\n"
          ]
        }
      ]
    },
    {
      "cell_type": "markdown",
      "source": [
        "##compile and training the model"
      ],
      "metadata": {
        "id": "hjre8ZBbuj-Q"
      }
    },
    {
      "cell_type": "code",
      "source": [
        "our_CNN_model2.compile(optimizer='adam', loss='categorical_crossentropy', metrics=['accuracy'])\n",
        "our_CNN_model2.fit(x=X_trainData, y=cat_y_trainData, epochs=50, batch_size=32, validation_data=(X_testData, cat_y_testData))"
      ],
      "metadata": {
        "colab": {
          "base_uri": "https://localhost:8080/"
        },
        "id": "CzH1uTdZuo-u",
        "outputId": "ac001a59-94b2-4b6a-feb1-acdc780ac663"
      },
      "execution_count": 23,
      "outputs": [
        {
          "output_type": "stream",
          "name": "stdout",
          "text": [
            "Epoch 1/50\n",
            "1563/1563 [==============================] - 12s 7ms/step - loss: 1.5562 - accuracy: 0.4194 - val_loss: 1.1465 - val_accuracy: 0.5885\n",
            "Epoch 2/50\n",
            "1563/1563 [==============================] - 10s 7ms/step - loss: 1.0516 - accuracy: 0.6266 - val_loss: 0.9858 - val_accuracy: 0.6554\n",
            "Epoch 3/50\n",
            "1563/1563 [==============================] - 10s 6ms/step - loss: 0.8297 - accuracy: 0.7104 - val_loss: 0.8603 - val_accuracy: 0.7035\n",
            "Epoch 4/50\n",
            "1563/1563 [==============================] - 10s 6ms/step - loss: 0.6944 - accuracy: 0.7584 - val_loss: 0.8427 - val_accuracy: 0.7255\n",
            "Epoch 5/50\n",
            "1563/1563 [==============================] - 10s 6ms/step - loss: 0.5932 - accuracy: 0.7913 - val_loss: 0.8069 - val_accuracy: 0.7285\n",
            "Epoch 6/50\n",
            "1563/1563 [==============================] - 10s 7ms/step - loss: 0.5053 - accuracy: 0.8221 - val_loss: 0.8228 - val_accuracy: 0.7413\n",
            "Epoch 7/50\n",
            "1563/1563 [==============================] - 10s 6ms/step - loss: 0.4203 - accuracy: 0.8542 - val_loss: 0.8807 - val_accuracy: 0.7194\n",
            "Epoch 8/50\n",
            "1563/1563 [==============================] - 10s 6ms/step - loss: 0.3551 - accuracy: 0.8751 - val_loss: 0.8685 - val_accuracy: 0.7455\n",
            "Epoch 9/50\n",
            "1563/1563 [==============================] - 10s 6ms/step - loss: 0.2976 - accuracy: 0.8946 - val_loss: 1.0104 - val_accuracy: 0.7312\n",
            "Epoch 10/50\n",
            "1563/1563 [==============================] - 10s 6ms/step - loss: 0.2518 - accuracy: 0.9119 - val_loss: 1.0410 - val_accuracy: 0.7233\n",
            "Epoch 11/50\n",
            "1563/1563 [==============================] - 10s 6ms/step - loss: 0.2243 - accuracy: 0.9213 - val_loss: 1.1103 - val_accuracy: 0.7180\n",
            "Epoch 12/50\n",
            "1563/1563 [==============================] - 10s 7ms/step - loss: 0.1882 - accuracy: 0.9352 - val_loss: 1.1567 - val_accuracy: 0.7431\n",
            "Epoch 13/50\n",
            "1563/1563 [==============================] - 10s 6ms/step - loss: 0.1662 - accuracy: 0.9426 - val_loss: 1.2379 - val_accuracy: 0.7190\n",
            "Epoch 14/50\n",
            "1563/1563 [==============================] - 10s 7ms/step - loss: 0.1623 - accuracy: 0.9460 - val_loss: 1.2518 - val_accuracy: 0.7293\n",
            "Epoch 15/50\n",
            "1563/1563 [==============================] - 10s 6ms/step - loss: 0.1421 - accuracy: 0.9523 - val_loss: 1.3186 - val_accuracy: 0.7336\n",
            "Epoch 16/50\n",
            "1563/1563 [==============================] - 10s 7ms/step - loss: 0.1302 - accuracy: 0.9565 - val_loss: 1.3313 - val_accuracy: 0.7264\n",
            "Epoch 17/50\n",
            "1563/1563 [==============================] - 10s 6ms/step - loss: 0.1316 - accuracy: 0.9557 - val_loss: 1.3335 - val_accuracy: 0.7269\n",
            "Epoch 18/50\n",
            "1563/1563 [==============================] - 10s 6ms/step - loss: 0.1177 - accuracy: 0.9604 - val_loss: 1.3904 - val_accuracy: 0.7347\n",
            "Epoch 19/50\n",
            "1563/1563 [==============================] - 10s 6ms/step - loss: 0.1179 - accuracy: 0.9610 - val_loss: 1.2844 - val_accuracy: 0.7307\n",
            "Epoch 20/50\n",
            "1563/1563 [==============================] - 10s 6ms/step - loss: 0.1093 - accuracy: 0.9648 - val_loss: 1.4816 - val_accuracy: 0.7318\n",
            "Epoch 21/50\n",
            "1563/1563 [==============================] - 10s 6ms/step - loss: 0.1031 - accuracy: 0.9660 - val_loss: 1.3793 - val_accuracy: 0.7316\n",
            "Epoch 22/50\n",
            "1563/1563 [==============================] - 10s 6ms/step - loss: 0.1021 - accuracy: 0.9673 - val_loss: 1.5398 - val_accuracy: 0.7259\n",
            "Epoch 23/50\n",
            "1563/1563 [==============================] - 10s 6ms/step - loss: 0.0999 - accuracy: 0.9674 - val_loss: 1.4807 - val_accuracy: 0.7349\n",
            "Epoch 24/50\n",
            "1563/1563 [==============================] - 10s 6ms/step - loss: 0.0966 - accuracy: 0.9682 - val_loss: 1.5315 - val_accuracy: 0.7334\n",
            "Epoch 25/50\n",
            "1563/1563 [==============================] - 10s 6ms/step - loss: 0.0924 - accuracy: 0.9700 - val_loss: 1.4982 - val_accuracy: 0.7355\n",
            "Epoch 26/50\n",
            "1563/1563 [==============================] - 10s 6ms/step - loss: 0.0856 - accuracy: 0.9722 - val_loss: 1.5950 - val_accuracy: 0.7420\n",
            "Epoch 27/50\n",
            "1563/1563 [==============================] - 10s 6ms/step - loss: 0.0820 - accuracy: 0.9741 - val_loss: 1.6152 - val_accuracy: 0.7321\n",
            "Epoch 28/50\n",
            "1563/1563 [==============================] - 10s 6ms/step - loss: 0.0797 - accuracy: 0.9741 - val_loss: 1.6562 - val_accuracy: 0.7298\n",
            "Epoch 29/50\n",
            "1563/1563 [==============================] - 10s 6ms/step - loss: 0.0866 - accuracy: 0.9714 - val_loss: 1.5479 - val_accuracy: 0.7367\n",
            "Epoch 30/50\n",
            "1563/1563 [==============================] - 10s 6ms/step - loss: 0.0768 - accuracy: 0.9757 - val_loss: 1.6778 - val_accuracy: 0.7359\n",
            "Epoch 31/50\n",
            "1563/1563 [==============================] - 10s 6ms/step - loss: 0.0855 - accuracy: 0.9741 - val_loss: 1.5488 - val_accuracy: 0.7411\n",
            "Epoch 32/50\n",
            "1563/1563 [==============================] - 10s 7ms/step - loss: 0.0711 - accuracy: 0.9775 - val_loss: 1.7787 - val_accuracy: 0.7314\n",
            "Epoch 33/50\n",
            "1563/1563 [==============================] - 10s 7ms/step - loss: 0.0731 - accuracy: 0.9775 - val_loss: 1.6680 - val_accuracy: 0.7432\n",
            "Epoch 34/50\n",
            "1563/1563 [==============================] - 10s 6ms/step - loss: 0.0684 - accuracy: 0.9783 - val_loss: 1.7457 - val_accuracy: 0.7337\n",
            "Epoch 35/50\n",
            "1563/1563 [==============================] - 10s 7ms/step - loss: 0.0730 - accuracy: 0.9763 - val_loss: 1.7647 - val_accuracy: 0.7291\n",
            "Epoch 36/50\n",
            "1563/1563 [==============================] - 11s 7ms/step - loss: 0.0652 - accuracy: 0.9796 - val_loss: 1.7162 - val_accuracy: 0.7377\n",
            "Epoch 37/50\n",
            "1563/1563 [==============================] - 10s 7ms/step - loss: 0.0735 - accuracy: 0.9780 - val_loss: 1.8445 - val_accuracy: 0.7224\n",
            "Epoch 38/50\n",
            "1563/1563 [==============================] - 10s 7ms/step - loss: 0.0696 - accuracy: 0.9788 - val_loss: 1.8223 - val_accuracy: 0.7418\n",
            "Epoch 39/50\n",
            "1563/1563 [==============================] - 10s 7ms/step - loss: 0.0641 - accuracy: 0.9805 - val_loss: 1.6001 - val_accuracy: 0.7365\n",
            "Epoch 40/50\n",
            "1563/1563 [==============================] - 10s 7ms/step - loss: 0.0615 - accuracy: 0.9810 - val_loss: 1.7876 - val_accuracy: 0.7397\n",
            "Epoch 41/50\n",
            "1563/1563 [==============================] - 10s 6ms/step - loss: 0.0614 - accuracy: 0.9816 - val_loss: 1.6135 - val_accuracy: 0.7431\n",
            "Epoch 42/50\n",
            "1563/1563 [==============================] - 10s 6ms/step - loss: 0.0636 - accuracy: 0.9810 - val_loss: 1.7113 - val_accuracy: 0.7323\n",
            "Epoch 43/50\n",
            "1563/1563 [==============================] - 10s 6ms/step - loss: 0.0630 - accuracy: 0.9814 - val_loss: 1.7279 - val_accuracy: 0.7411\n",
            "Epoch 44/50\n",
            "1563/1563 [==============================] - 10s 6ms/step - loss: 0.0675 - accuracy: 0.9805 - val_loss: 1.7200 - val_accuracy: 0.7450\n",
            "Epoch 45/50\n",
            "1563/1563 [==============================] - 10s 6ms/step - loss: 0.0565 - accuracy: 0.9827 - val_loss: 1.7364 - val_accuracy: 0.7225\n",
            "Epoch 46/50\n",
            "1563/1563 [==============================] - 10s 6ms/step - loss: 0.0584 - accuracy: 0.9826 - val_loss: 1.8127 - val_accuracy: 0.7433\n",
            "Epoch 47/50\n",
            "1563/1563 [==============================] - 10s 6ms/step - loss: 0.0566 - accuracy: 0.9835 - val_loss: 1.9963 - val_accuracy: 0.7372\n",
            "Epoch 48/50\n",
            "1563/1563 [==============================] - 10s 6ms/step - loss: 0.0530 - accuracy: 0.9844 - val_loss: 1.9519 - val_accuracy: 0.7304\n",
            "Epoch 49/50\n",
            "1563/1563 [==============================] - 10s 6ms/step - loss: 0.0546 - accuracy: 0.9842 - val_loss: 1.9505 - val_accuracy: 0.7356\n",
            "Epoch 50/50\n",
            "1563/1563 [==============================] - 10s 6ms/step - loss: 0.0643 - accuracy: 0.9816 - val_loss: 1.8434 - val_accuracy: 0.7324\n"
          ]
        },
        {
          "output_type": "execute_result",
          "data": {
            "text/plain": [
              "<keras.callbacks.History at 0x7f478e1b1510>"
            ]
          },
          "metadata": {},
          "execution_count": 23
        }
      ]
    },
    {
      "cell_type": "code",
      "source": [
        "plot_history = pd.DataFrame(our_CNN_model2.history.history)\n",
        "plot_history[['loss', 'val_loss']].plot()"
      ],
      "metadata": {
        "colab": {
          "base_uri": "https://localhost:8080/",
          "height": 282
        },
        "id": "6n1IfNH5ylC8",
        "outputId": "3cfcb811-1948-4765-b367-221d9f662d91"
      },
      "execution_count": 24,
      "outputs": [
        {
          "output_type": "execute_result",
          "data": {
            "text/plain": [
              "<matplotlib.axes._subplots.AxesSubplot at 0x7f47368e88d0>"
            ]
          },
          "metadata": {},
          "execution_count": 24
        },
        {
          "output_type": "display_data",
          "data": {
            "text/plain": [
              "<Figure size 432x288 with 1 Axes>"
            ],
            "image/png": "[encoded data removed]"
          },
          "metadata": {
            "needs_background": "light"
          }
        }
      ]
    },
    {
      "cell_type": "code",
      "source": [
        "plot_history[['accuracy', 'val_accuracy']].plot()\n"
      ],
      "metadata": {
        "colab": {
          "base_uri": "https://localhost:8080/",
          "height": 282
        },
        "id": "5gN6SDDAymyC",
        "outputId": "d21c8395-800b-41fd-c59e-e5dbf2ad1965"
      },
      "execution_count": 25,
      "outputs": [
        {
          "output_type": "execute_result",
          "data": {
            "text/plain": [
              "<matplotlib.axes._subplots.AxesSubplot at 0x7f47021e8ed0>"
            ]
          },
          "metadata": {},
          "execution_count": 25
        },
        {
          "output_type": "display_data",
          "data": {
            "text/plain": [
              "<Figure size 432x288 with 1 Axes>"
            ],
            "image/png": "[encoded data removed]"
          },
          "metadata": {
            "needs_background": "light"
          }
        }
      ]
    },
    {
      "cell_type": "markdown",
      "source": [
        "##Evalute the model"
      ],
      "metadata": {
        "id": "uUhNX_FCbXPf"
      }
    },
    {
      "cell_type": "code",
      "source": [
        "our_CNN_model2.evaluate(X_testData, cat_y_testData)"
      ],
      "metadata": {
        "colab": {
          "base_uri": "https://localhost:8080/"
        },
        "outputId": "7355d3d2-8f69-4a0c-bcd3-c9369f6e1e57",
        "id": "AWt7QviZbXPf"
      },
      "execution_count": 26,
      "outputs": [
        {
          "output_type": "stream",
          "name": "stdout",
          "text": [
            "313/313 [==============================] - 1s 4ms/step - loss: 1.8434 - accuracy: 0.7324\n"
          ]
        },
        {
          "output_type": "execute_result",
          "data": {
            "text/plain": [
              "[1.8434138298034668, 0.7324000000953674]"
            ]
          },
          "metadata": {},
          "execution_count": 26
        }
      ]
    },
    {
      "cell_type": "markdown",
      "source": [
        "##**Part3 - check the early-stoping technic to raech an optimum model**\n"
      ],
      "metadata": {
        "id": "6xbJ8ygDjjy1"
      }
    },
    {
      "cell_type": "markdown",
      "source": [
        "###use early-stoping in our model\n",
        "###to reach a fewer loss and a better accuracy"
      ],
      "metadata": {
        "id": "oaLtCAsIj1sv"
      }
    },
    {
      "cell_type": "code",
      "source": [
        "from tensorflow.keras.callbacks import EarlyStopping\n"
      ],
      "metadata": {
        "id": "U4ODO8Kxsuad"
      },
      "execution_count": 8,
      "outputs": []
    },
    {
      "cell_type": "code",
      "source": [
        "early_stoping = EarlyStopping(monitor='val_loss', mode='min', patience=10, restore_best_weights=True)"
      ],
      "metadata": {
        "id": "tpp2AF6Sxflp"
      },
      "execution_count": 9,
      "outputs": []
    },
    {
      "cell_type": "code",
      "source": [
        "our_CNN_model.compile(optimizer='adam', loss='categorical_crossentropy', metrics=['accuracy'])\n",
        "our_CNN_model.fit(x=X_trainData, y=cat_y_trainData, epochs=40, batch_size=32,\n",
        "              validation_data=(X_testData, cat_y_testData), callbacks=[early_stoping])"
      ],
      "metadata": {
        "colab": {
          "base_uri": "https://localhost:8080/"
        },
        "id": "rQN-N7WYx_t8",
        "outputId": "bcee61e4-3fe6-4393-b7f4-d6b01546b47f"
      },
      "execution_count": 13,
      "outputs": [
        {
          "output_type": "stream",
          "name": "stdout",
          "text": [
            "Epoch 1/40\n",
            "1563/1563 [==============================] - 13s 7ms/step - loss: 1.4843 - accuracy: 0.4553 - val_loss: 1.0891 - val_accuracy: 0.6037\n",
            "Epoch 2/40\n",
            "1563/1563 [==============================] - 9s 6ms/step - loss: 0.9856 - accuracy: 0.6503 - val_loss: 0.9061 - val_accuracy: 0.6775\n",
            "Epoch 3/40\n",
            "1563/1563 [==============================] - 10s 6ms/step - loss: 0.7936 - accuracy: 0.7194 - val_loss: 0.7644 - val_accuracy: 0.7370\n",
            "Epoch 4/40\n",
            "1563/1563 [==============================] - 9s 6ms/step - loss: 0.6757 - accuracy: 0.7618 - val_loss: 0.7111 - val_accuracy: 0.7538\n",
            "Epoch 5/40\n",
            "1563/1563 [==============================] - 9s 6ms/step - loss: 0.5926 - accuracy: 0.7930 - val_loss: 0.6938 - val_accuracy: 0.7654\n",
            "Epoch 6/40\n",
            "1563/1563 [==============================] - 9s 6ms/step - loss: 0.5276 - accuracy: 0.8147 - val_loss: 0.6829 - val_accuracy: 0.7711\n",
            "Epoch 7/40\n",
            "1563/1563 [==============================] - 9s 6ms/step - loss: 0.4705 - accuracy: 0.8338 - val_loss: 0.7276 - val_accuracy: 0.7609\n",
            "Epoch 8/40\n",
            "1563/1563 [==============================] - 9s 6ms/step - loss: 0.4186 - accuracy: 0.8525 - val_loss: 0.6894 - val_accuracy: 0.7797\n",
            "Epoch 9/40\n",
            "1563/1563 [==============================] - 10s 6ms/step - loss: 0.3735 - accuracy: 0.8683 - val_loss: 0.7058 - val_accuracy: 0.7787\n",
            "Epoch 10/40\n",
            "1563/1563 [==============================] - 10s 6ms/step - loss: 0.3422 - accuracy: 0.8789 - val_loss: 0.7332 - val_accuracy: 0.7782\n",
            "Epoch 11/40\n",
            "1563/1563 [==============================] - 10s 7ms/step - loss: 0.3072 - accuracy: 0.8906 - val_loss: 0.7875 - val_accuracy: 0.7695\n",
            "Epoch 12/40\n",
            "1563/1563 [==============================] - 9s 6ms/step - loss: 0.2908 - accuracy: 0.8964 - val_loss: 0.7776 - val_accuracy: 0.7784\n",
            "Epoch 13/40\n",
            "1563/1563 [==============================] - 10s 6ms/step - loss: 0.2778 - accuracy: 0.9020 - val_loss: 0.8148 - val_accuracy: 0.7650\n",
            "Epoch 14/40\n",
            "1563/1563 [==============================] - 9s 6ms/step - loss: 0.2598 - accuracy: 0.9093 - val_loss: 0.7895 - val_accuracy: 0.7780\n",
            "Epoch 15/40\n",
            "1563/1563 [==============================] - 9s 6ms/step - loss: 0.2447 - accuracy: 0.9139 - val_loss: 0.8569 - val_accuracy: 0.7723\n",
            "Epoch 16/40\n",
            "1563/1563 [==============================] - 10s 6ms/step - loss: 0.2329 - accuracy: 0.9187 - val_loss: 0.8633 - val_accuracy: 0.7753\n"
          ]
        },
        {
          "output_type": "execute_result",
          "data": {
            "text/plain": [
              "<keras.callbacks.History at 0x7faf9001df50>"
            ]
          },
          "metadata": {},
          "execution_count": 13
        }
      ]
    },
    {
      "cell_type": "markdown",
      "source": [
        "###plot model loss history"
      ],
      "metadata": {
        "id": "odBT3lqKzeXh"
      }
    },
    {
      "cell_type": "code",
      "source": [
        "plot_history = pd.DataFrame(our_CNN_model.history.history)\n",
        "plot_history[['loss', 'val_loss']].plot()"
      ],
      "metadata": {
        "colab": {
          "base_uri": "https://localhost:8080/",
          "height": 282
        },
        "outputId": "357f31f4-a7bc-4ac2-c1a4-739a26bef453",
        "id": "JC1fQzP0zeXi"
      },
      "execution_count": 14,
      "outputs": [
        {
          "output_type": "execute_result",
          "data": {
            "text/plain": [
              "<matplotlib.axes._subplots.AxesSubplot at 0x7faf420eb050>"
            ]
          },
          "metadata": {},
          "execution_count": 14
        },
        {
          "output_type": "display_data",
          "data": {
            "text/plain": [
              "<Figure size 432x288 with 1 Axes>"
            ],
            "image/png": "[encoded data removed]"
          },
          "metadata": {
            "needs_background": "light"
          }
        }
      ]
    },
    {
      "cell_type": "markdown",
      "source": [
        "###min of loss history"
      ],
      "metadata": {
        "id": "tKmPdamLzeXj"
      }
    },
    {
      "cell_type": "code",
      "source": [
        "np.min(our_CNN_model.history.history['loss'])"
      ],
      "metadata": {
        "colab": {
          "base_uri": "https://localhost:8080/"
        },
        "outputId": "56f3478c-f887-4e10-ab8e-3fa815b27ba1",
        "id": "OL13huODzeXk"
      },
      "execution_count": 15,
      "outputs": [
        {
          "output_type": "execute_result",
          "data": {
            "text/plain": [
              "0.23287376761436462"
            ]
          },
          "metadata": {},
          "execution_count": 15
        }
      ]
    },
    {
      "cell_type": "markdown",
      "source": [
        "###plot model accuracy"
      ],
      "metadata": {
        "id": "f3_xEf9RzeXk"
      }
    },
    {
      "cell_type": "code",
      "source": [
        "plot_history = pd.DataFrame(our_CNN_model.history.history)\n",
        "plot_history[['accuracy', 'val_accuracy']].plot()"
      ],
      "metadata": {
        "colab": {
          "base_uri": "https://localhost:8080/",
          "height": 282
        },
        "outputId": "5db01349-f553-43ff-e3f7-d54c0fc21838",
        "id": "LKP7RUpMzeXl"
      },
      "execution_count": 16,
      "outputs": [
        {
          "output_type": "execute_result",
          "data": {
            "text/plain": [
              "<matplotlib.axes._subplots.AxesSubplot at 0x7faf2b701090>"
            ]
          },
          "metadata": {},
          "execution_count": 16
        },
        {
          "output_type": "display_data",
          "data": {
            "text/plain": [
              "<Figure size 432x288 with 1 Axes>"
            ],
            "image/png": "[encoded data removed]"
          },
          "metadata": {
            "needs_background": "light"
          }
        }
      ]
    },
    {
      "cell_type": "markdown",
      "source": [
        "###max of validation accuracy"
      ],
      "metadata": {
        "id": "PBu7-Q6MzeXl"
      }
    },
    {
      "cell_type": "code",
      "source": [
        "np.max(our_CNN_model.history.history['val_accuracy'])"
      ],
      "metadata": {
        "colab": {
          "base_uri": "https://localhost:8080/"
        },
        "outputId": "09d546dc-15dd-430b-cd50-96159d78718c",
        "id": "bm-EzflrzeXl"
      },
      "execution_count": 17,
      "outputs": [
        {
          "output_type": "execute_result",
          "data": {
            "text/plain": [
              "0.779699981212616"
            ]
          },
          "metadata": {},
          "execution_count": 17
        }
      ]
    },
    {
      "cell_type": "markdown",
      "source": [
        "##Evalute the model"
      ],
      "metadata": {
        "id": "U68tJKXBzeXm"
      }
    },
    {
      "cell_type": "code",
      "source": [
        "our_CNN_model.evaluate(X_testData, cat_y_testData)"
      ],
      "metadata": {
        "colab": {
          "base_uri": "https://localhost:8080/"
        },
        "outputId": "0ddf19ad-fdee-469a-fcb0-dd99d9b09187",
        "id": "X-dbjCHszeXm"
      },
      "execution_count": 18,
      "outputs": [
        {
          "output_type": "stream",
          "name": "stdout",
          "text": [
            "313/313 [==============================] - 1s 4ms/step - loss: 0.6829 - accuracy: 0.7711\n"
          ]
        },
        {
          "output_type": "execute_result",
          "data": {
            "text/plain": [
              "[0.682878851890564, 0.7710999846458435]"
            ]
          },
          "metadata": {},
          "execution_count": 18
        }
      ]
    },
    {
      "cell_type": "markdown",
      "source": [
        "###confusion matrix and classification report"
      ],
      "metadata": {
        "id": "CEV94M5Skal0"
      }
    },
    {
      "cell_type": "markdown",
      "source": [
        "### should be sparse"
      ],
      "metadata": {
        "id": "FvUTiV4pknaK"
      }
    },
    {
      "cell_type": "code",
      "source": [
        "predictions = our_CNN_model.predict(X_testData)\n",
        "predictions_sparse = np.argmax(predictions, axis=1)\n",
        "predictions[0], predictions_sparse[0]"
      ],
      "metadata": {
        "colab": {
          "base_uri": "https://localhost:8080/"
        },
        "id": "zXyu3rUK0Lrs",
        "outputId": "70bbf459-a86d-4621-e18f-f00e81af795e"
      },
      "execution_count": 19,
      "outputs": [
        {
          "output_type": "stream",
          "name": "stdout",
          "text": [
            "313/313 [==============================] - 1s 2ms/step\n"
          ]
        },
        {
          "output_type": "execute_result",
          "data": {
            "text/plain": [
              "(array([1.4575123e-03, 4.9356726e-04, 4.6526126e-04, 8.7052953e-01,\n",
              "        2.1654585e-05, 1.1634006e-01, 3.9997026e-03, 1.8319597e-03,\n",
              "        4.5076455e-03, 3.5320688e-04], dtype=float32), 3)"
            ]
          },
          "metadata": {},
          "execution_count": 19
        }
      ]
    },
    {
      "cell_type": "markdown",
      "source": [
        "###printing classification report"
      ],
      "metadata": {
        "id": "TeqOPaGrknk7"
      }
    },
    {
      "cell_type": "code",
      "source": [
        "from sklearn.metrics import confusion_matrix, classification_report"
      ],
      "metadata": {
        "id": "yacyeEhT0hM3"
      },
      "execution_count": 20,
      "outputs": []
    },
    {
      "cell_type": "code",
      "source": [
        "print(classification_report(Y_testData, predictions_sparse))"
      ],
      "metadata": {
        "colab": {
          "base_uri": "https://localhost:8080/"
        },
        "id": "k9stLfvJ0qoW",
        "outputId": "adb147c3-edac-4c01-992b-7401871e451d"
      },
      "execution_count": 21,
      "outputs": [
        {
          "output_type": "stream",
          "name": "stdout",
          "text": [
            "              precision    recall  f1-score   support\n",
            "\n",
            "           0       0.75      0.84      0.79      1000\n",
            "           1       0.86      0.91      0.88      1000\n",
            "           2       0.72      0.62      0.67      1000\n",
            "           3       0.60      0.65      0.62      1000\n",
            "           4       0.68      0.80      0.74      1000\n",
            "           5       0.78      0.58      0.67      1000\n",
            "           6       0.86      0.76      0.81      1000\n",
            "           7       0.76      0.85      0.80      1000\n",
            "           8       0.90      0.83      0.87      1000\n",
            "           9       0.84      0.87      0.86      1000\n",
            "\n",
            "    accuracy                           0.77     10000\n",
            "   macro avg       0.78      0.77      0.77     10000\n",
            "weighted avg       0.78      0.77      0.77     10000\n",
            "\n"
          ]
        }
      ]
    },
    {
      "cell_type": "markdown",
      "source": [
        "###use cinfusion matrix"
      ],
      "metadata": {
        "id": "3zGruLE-kyS2"
      }
    },
    {
      "cell_type": "code",
      "source": [
        "confusion_matrix(Y_testData, predictions_sparse)"
      ],
      "metadata": {
        "colab": {
          "base_uri": "https://localhost:8080/"
        },
        "id": "dXnLP41ROckH",
        "outputId": "ab1538df-a5b7-4086-c605-5e4382bc5f46"
      },
      "execution_count": 22,
      "outputs": [
        {
          "output_type": "execute_result",
          "data": {
            "text/plain": [
              "array([[843,  20,  27,  14,  19,   0,   0,  13,  38,  26],\n",
              "       [ 10, 914,   1,   1,   2,   1,   5,   1,  15,  50],\n",
              "       [ 97,   5, 620,  50,  93,  37,  48,  31,   7,  12],\n",
              "       [ 25,   9,  49, 650,  77,  76,  34,  56,   7,  17],\n",
              "       [ 18,   1,  44,  44, 799,  11,  20,  54,   3,   6],\n",
              "       [ 14,   4,  46, 199,  54, 579,  10,  89,   3,   2],\n",
              "       [ 11,   4,  38,  83,  74,  16, 756,   8,   5,   5],\n",
              "       [ 15,   4,  22,  28,  46,  16,   1, 849,   2,  17],\n",
              "       [ 68,  40,  11,  11,   4,   1,   1,   5, 835,  24],\n",
              "       [ 27,  66,   4,   9,   5,   4,   1,   8,  10, 866]])"
            ]
          },
          "metadata": {},
          "execution_count": 22
        }
      ]
    },
    {
      "cell_type": "markdown",
      "source": [
        "##**Part4 - using dropout layer and batch normalization to report its effect**\n"
      ],
      "metadata": {
        "id": "5ruohdYUOd4F"
      }
    },
    {
      "cell_type": "markdown",
      "source": [
        "###Import dropout layer "
      ],
      "metadata": {
        "id": "XPjUlyoaSqsE"
      }
    },
    {
      "cell_type": "code",
      "source": [
        "from tensorflow.keras.models import Model\n",
        "from tensorflow.keras.layers import Input, Dense, Dropout, MaxPool2D\n",
        "from tensorflow.keras.layers import Conv2D, Flatten, GlobalAveragePooling2D, ReLU, Activation, BatchNormalization"
      ],
      "metadata": {
        "id": "8bKWBqDSdC_m"
      },
      "execution_count": 23,
      "outputs": []
    },
    {
      "cell_type": "markdown",
      "source": [
        "###Create the model using dropout layer"
      ],
      "metadata": {
        "id": "oIvSvRw0dD6C"
      }
    },
    {
      "cell_type": "code",
      "source": [
        "input = Input(shape=(32, 32, 3))\n",
        "\n",
        "x = Conv2D(filters=32, kernel_size=(5, 5), strides=1, padding='same')(input)\n",
        "x = BatchNormalization()(x)\n",
        "x = ReLU()(x)\n",
        "x = MaxPool2D(pool_size=(2, 2), strides=2, padding='same')(x)\n",
        "\n",
        "x = Conv2D(filters=64, kernel_size=(3, 3), strides=1, padding='same')(x)\n",
        "x = BatchNormalization()(x)\n",
        "x = ReLU()(x)\n",
        "x = MaxPool2D(pool_size=(2, 2), strides=2, padding='same')(x)\n",
        "\n",
        "x = Conv2D(filters=128, kernel_size=(3, 3), strides=1, padding='same')(x)\n",
        "x = BatchNormalization()(x)\n",
        "x = ReLU()(x)\n",
        "x = MaxPool2D(pool_size=(2, 2), strides=2, padding='same')(x)\n",
        "\n",
        "x = Flatten()(x)\n",
        "\n",
        "x = Dense(units=128)(x)\n",
        "x = ReLU()(x)\n",
        "x = Dropout(0.3)(x)\n",
        "x = Dense(units=10)(x)\n",
        "predictions = Activation(activation='softmax')(x)\n",
        "\n",
        "our_CNN_model3 = Model(input, predictions)\n"
      ],
      "metadata": {
        "id": "V5sLC0NoigEu"
      },
      "execution_count": 24,
      "outputs": []
    },
    {
      "cell_type": "markdown",
      "source": [
        "###summary of the model"
      ],
      "metadata": {
        "id": "852GVJvgigsn"
      }
    },
    {
      "cell_type": "code",
      "source": [
        "our_CNN_model3.summary()"
      ],
      "metadata": {
        "colab": {
          "base_uri": "https://localhost:8080/"
        },
        "id": "Svt-dtidilYE",
        "outputId": "bd4c0083-5fe7-4cb7-ddaf-89ef738a33a5"
      },
      "execution_count": 25,
      "outputs": [
        {
          "output_type": "stream",
          "name": "stdout",
          "text": [
            "Model: \"model_1\"\n",
            "_________________________________________________________________\n",
            " Layer (type)                Output Shape              Param #   \n",
            "=================================================================\n",
            " input_2 (InputLayer)        [(None, 32, 32, 3)]       0         \n",
            "                                                                 \n",
            " conv2d_6 (Conv2D)           (None, 32, 32, 32)        2432      \n",
            "                                                                 \n",
            " batch_normalization (BatchN  (None, 32, 32, 32)       128       \n",
            " ormalization)                                                   \n",
            "                                                                 \n",
            " re_lu_1 (ReLU)              (None, 32, 32, 32)        0         \n",
            "                                                                 \n",
            " max_pooling2d_3 (MaxPooling  (None, 16, 16, 32)       0         \n",
            " 2D)                                                             \n",
            "                                                                 \n",
            " conv2d_7 (Conv2D)           (None, 16, 16, 64)        18496     \n",
            "                                                                 \n",
            " batch_normalization_1 (Batc  (None, 16, 16, 64)       256       \n",
            " hNormalization)                                                 \n",
            "                                                                 \n",
            " re_lu_2 (ReLU)              (None, 16, 16, 64)        0         \n",
            "                                                                 \n",
            " max_pooling2d_4 (MaxPooling  (None, 8, 8, 64)         0         \n",
            " 2D)                                                             \n",
            "                                                                 \n",
            " conv2d_8 (Conv2D)           (None, 8, 8, 128)         73856     \n",
            "                                                                 \n",
            " batch_normalization_2 (Batc  (None, 8, 8, 128)        512       \n",
            " hNormalization)                                                 \n",
            "                                                                 \n",
            " re_lu_3 (ReLU)              (None, 8, 8, 128)         0         \n",
            "                                                                 \n",
            " max_pooling2d_5 (MaxPooling  (None, 4, 4, 128)        0         \n",
            " 2D)                                                             \n",
            "                                                                 \n",
            " flatten_1 (Flatten)         (None, 2048)              0         \n",
            "                                                                 \n",
            " dense_2 (Dense)             (None, 128)               262272    \n",
            "                                                                 \n",
            " re_lu_4 (ReLU)              (None, 128)               0         \n",
            "                                                                 \n",
            " dropout_1 (Dropout)         (None, 128)               0         \n",
            "                                                                 \n",
            " dense_3 (Dense)             (None, 10)                1290      \n",
            "                                                                 \n",
            " activation_1 (Activation)   (None, 10)                0         \n",
            "                                                                 \n",
            "=================================================================\n",
            "Total params: 359,242\n",
            "Trainable params: 358,794\n",
            "Non-trainable params: 448\n",
            "_________________________________________________________________\n"
          ]
        }
      ]
    },
    {
      "cell_type": "markdown",
      "source": [
        "###compile the model with optimizer "
      ],
      "metadata": {
        "id": "w-0T2gc5il8H"
      }
    },
    {
      "cell_type": "code",
      "source": [
        "our_CNN_model3.compile(optimizer='adam', loss='categorical_crossentropy', metrics=['accuracy'])"
      ],
      "metadata": {
        "id": "WCGAc54Niyfb"
      },
      "execution_count": 26,
      "outputs": []
    },
    {
      "cell_type": "markdown",
      "source": [
        "##Train the model using early stoping"
      ],
      "metadata": {
        "id": "GsB84znzmWRG"
      }
    },
    {
      "cell_type": "code",
      "source": [
        "our_CNN_model3.fit(x=X_trainData, y=cat_y_trainData, epochs=40, batch_size=32,\n",
        "              validation_data=(X_testData, cat_y_testData), callbacks=[early_stoping])"
      ],
      "metadata": {
        "colab": {
          "base_uri": "https://localhost:8080/"
        },
        "id": "4e_2XGV6mVo7",
        "outputId": "99d0afbd-ced5-4026-ae29-e6642dc774eb"
      },
      "execution_count": 27,
      "outputs": [
        {
          "output_type": "stream",
          "name": "stdout",
          "text": [
            "Epoch 1/40\n",
            "1563/1563 [==============================] - 10s 6ms/step - loss: 1.6155 - accuracy: 0.3962 - val_loss: 1.3927 - val_accuracy: 0.4909\n",
            "Epoch 2/40\n",
            "1563/1563 [==============================] - 8s 5ms/step - loss: 1.3231 - accuracy: 0.5084 - val_loss: 1.2277 - val_accuracy: 0.5673\n",
            "Epoch 3/40\n",
            "1563/1563 [==============================] - 8s 5ms/step - loss: 1.2022 - accuracy: 0.5578 - val_loss: 1.2119 - val_accuracy: 0.5672\n",
            "Epoch 4/40\n",
            "1563/1563 [==============================] - 8s 5ms/step - loss: 1.1183 - accuracy: 0.5869 - val_loss: 1.0542 - val_accuracy: 0.6363\n",
            "Epoch 5/40\n",
            "1563/1563 [==============================] - 8s 5ms/step - loss: 1.0417 - accuracy: 0.6198 - val_loss: 1.1261 - val_accuracy: 0.6209\n",
            "Epoch 6/40\n",
            "1563/1563 [==============================] - 8s 5ms/step - loss: 0.9661 - accuracy: 0.6481 - val_loss: 1.2665 - val_accuracy: 0.5805\n",
            "Epoch 7/40\n",
            "1563/1563 [==============================] - 8s 5ms/step - loss: 0.9125 - accuracy: 0.6642 - val_loss: 1.1435 - val_accuracy: 0.6195\n",
            "Epoch 8/40\n",
            "1563/1563 [==============================] - 8s 5ms/step - loss: 0.8638 - accuracy: 0.6857 - val_loss: 0.7977 - val_accuracy: 0.7292\n",
            "Epoch 9/40\n",
            "1563/1563 [==============================] - 8s 5ms/step - loss: 0.8119 - accuracy: 0.7058 - val_loss: 0.9814 - val_accuracy: 0.6775\n",
            "Epoch 10/40\n",
            "1563/1563 [==============================] - 8s 5ms/step - loss: 0.7792 - accuracy: 0.7205 - val_loss: 0.8008 - val_accuracy: 0.7222\n",
            "Epoch 11/40\n",
            "1563/1563 [==============================] - 8s 5ms/step - loss: 0.7352 - accuracy: 0.7336 - val_loss: 0.7697 - val_accuracy: 0.7407\n",
            "Epoch 12/40\n",
            "1563/1563 [==============================] - 8s 5ms/step - loss: 0.6948 - accuracy: 0.7498 - val_loss: 1.7817 - val_accuracy: 0.5337\n",
            "Epoch 13/40\n",
            "1563/1563 [==============================] - 12s 8ms/step - loss: 0.6614 - accuracy: 0.7616 - val_loss: 0.8624 - val_accuracy: 0.7194\n",
            "Epoch 14/40\n",
            "1563/1563 [==============================] - 8s 5ms/step - loss: 0.6303 - accuracy: 0.7714 - val_loss: 0.9406 - val_accuracy: 0.7128\n",
            "Epoch 15/40\n",
            "1563/1563 [==============================] - 9s 6ms/step - loss: 0.5987 - accuracy: 0.7857 - val_loss: 0.7737 - val_accuracy: 0.7478\n",
            "Epoch 16/40\n",
            "1563/1563 [==============================] - 8s 5ms/step - loss: 0.5526 - accuracy: 0.8003 - val_loss: 0.8695 - val_accuracy: 0.7349\n",
            "Epoch 17/40\n",
            "1563/1563 [==============================] - 8s 5ms/step - loss: 0.5240 - accuracy: 0.8098 - val_loss: 0.8217 - val_accuracy: 0.7391\n",
            "Epoch 18/40\n",
            "1563/1563 [==============================] - 8s 5ms/step - loss: 0.4905 - accuracy: 0.8239 - val_loss: 0.8964 - val_accuracy: 0.7298\n",
            "Epoch 19/40\n",
            "1563/1563 [==============================] - 8s 5ms/step - loss: 0.4735 - accuracy: 0.8315 - val_loss: 0.7780 - val_accuracy: 0.7628\n",
            "Epoch 20/40\n",
            "1563/1563 [==============================] - 8s 5ms/step - loss: 0.4428 - accuracy: 0.8425 - val_loss: 0.8610 - val_accuracy: 0.7491\n",
            "Epoch 21/40\n",
            "1563/1563 [==============================] - 8s 5ms/step - loss: 0.4120 - accuracy: 0.8517 - val_loss: 1.0185 - val_accuracy: 0.7136\n"
          ]
        },
        {
          "output_type": "execute_result",
          "data": {
            "text/plain": [
              "<keras.callbacks.History at 0x7fae35fe2890>"
            ]
          },
          "metadata": {},
          "execution_count": 27
        }
      ]
    },
    {
      "cell_type": "markdown",
      "source": [
        "###loss function and accuracy metric"
      ],
      "metadata": {
        "id": "pyQAsnowiy_s"
      }
    },
    {
      "cell_type": "code",
      "source": [
        "plot_history3 = pd.DataFrame(our_CNN_model3.history.history)\n",
        "plot_history3[['accuracy', 'val_accuracy']].plot()"
      ],
      "metadata": {
        "colab": {
          "base_uri": "https://localhost:8080/",
          "height": 282
        },
        "id": "TjAsrRiQi3fB",
        "outputId": "b5be936d-0e7c-4119-ab03-8a340d3fb6c5"
      },
      "execution_count": 28,
      "outputs": [
        {
          "output_type": "execute_result",
          "data": {
            "text/plain": [
              "<matplotlib.axes._subplots.AxesSubplot at 0x7fae33e51f10>"
            ]
          },
          "metadata": {},
          "execution_count": 28
        },
        {
          "output_type": "display_data",
          "data": {
            "text/plain": [
              "<Figure size 432x288 with 1 Axes>"
            ],
            "image/png": "[encoded data removed]"
          },
          "metadata": {
            "needs_background": "light"
          }
        }
      ]
    },
    {
      "cell_type": "markdown",
      "source": [
        "###plot model loss history"
      ],
      "metadata": {
        "id": "cKl0J0mvi34r"
      }
    },
    {
      "cell_type": "code",
      "source": [
        "plot_history3[['loss', 'val_loss']].plot()"
      ],
      "metadata": {
        "colab": {
          "base_uri": "https://localhost:8080/",
          "height": 282
        },
        "id": "1J4ogTcSi8c6",
        "outputId": "dcc5b4e4-89d5-4ac4-e205-f032c171c8a9"
      },
      "execution_count": 29,
      "outputs": [
        {
          "output_type": "execute_result",
          "data": {
            "text/plain": [
              "<matplotlib.axes._subplots.AxesSubplot at 0x7faea0a42d90>"
            ]
          },
          "metadata": {},
          "execution_count": 29
        },
        {
          "output_type": "display_data",
          "data": {
            "text/plain": [
              "<Figure size 432x288 with 1 Axes>"
            ],
            "image/png": "[encoded data removed]"
          },
          "metadata": {
            "needs_background": "light"
          }
        }
      ]
    },
    {
      "cell_type": "markdown",
      "source": [
        "##Evalute the data"
      ],
      "metadata": {
        "id": "RcZEk92zulN_"
      }
    },
    {
      "cell_type": "code",
      "source": [
        "our_CNN_model3.evaluate(X_testData, cat_y_testData)"
      ],
      "metadata": {
        "colab": {
          "base_uri": "https://localhost:8080/"
        },
        "id": "zy0AHXMkuqgS",
        "outputId": "d8dd743a-1cbe-442f-c771-b435b387e540"
      },
      "execution_count": 30,
      "outputs": [
        {
          "output_type": "stream",
          "name": "stdout",
          "text": [
            "313/313 [==============================] - 1s 3ms/step - loss: 0.7697 - accuracy: 0.7407\n"
          ]
        },
        {
          "output_type": "execute_result",
          "data": {
            "text/plain": [
              "[0.7697134017944336, 0.7407000064849854]"
            ]
          },
          "metadata": {},
          "execution_count": 30
        }
      ]
    },
    {
      "cell_type": "markdown",
      "source": [
        "##**Part5 - using some portion of data**\n"
      ],
      "metadata": {
        "id": "Lh7Jdc74vA3S"
      }
    },
    {
      "cell_type": "code",
      "source": [
        "X_trainData = X_trainData[:40000]\n",
        "X_trainData.shape"
      ],
      "metadata": {
        "colab": {
          "base_uri": "https://localhost:8080/"
        },
        "id": "TR-z16KcDtZ1",
        "outputId": "25007447-b317-427c-e537-683493ab50da"
      },
      "execution_count": 51,
      "outputs": [
        {
          "output_type": "execute_result",
          "data": {
            "text/plain": [
              "(10000, 32, 32, 3)"
            ]
          },
          "metadata": {},
          "execution_count": 51
        }
      ]
    },
    {
      "cell_type": "code",
      "source": [
        "Y_trainData = Y_trainData[:40000]\n",
        "Y_trainData.shape"
      ],
      "metadata": {
        "colab": {
          "base_uri": "https://localhost:8080/"
        },
        "id": "2eDLRdcMFBKS",
        "outputId": "b57598fb-5047-49b5-a9da-647ac5bac67c"
      },
      "execution_count": 52,
      "outputs": [
        {
          "output_type": "execute_result",
          "data": {
            "text/plain": [
              "(10000, 1)"
            ]
          },
          "metadata": {},
          "execution_count": 52
        }
      ]
    },
    {
      "cell_type": "code",
      "source": [
        "cat_y_trainData = cat_y_trainData[0:40000]\n",
        "cat_y_trainData.shape"
      ],
      "metadata": {
        "colab": {
          "base_uri": "https://localhost:8080/"
        },
        "id": "Prx-I8D2Jqj0",
        "outputId": "62a6e12e-9748-41ea-e928-5c2ccc028e5d"
      },
      "execution_count": 53,
      "outputs": [
        {
          "output_type": "execute_result",
          "data": {
            "text/plain": [
              "(10000, 10)"
            ]
          },
          "metadata": {},
          "execution_count": 53
        }
      ]
    },
    {
      "cell_type": "code",
      "source": [
        "our_CNN_model3.compile(optimizer='adam', loss='categorical_crossentropy', metrics=['accuracy'])"
      ],
      "metadata": {
        "id": "4-I5j_rwFXZQ"
      },
      "execution_count": 54,
      "outputs": []
    },
    {
      "cell_type": "code",
      "source": [
        "our_CNN_model3.fit(x=X_trainData, y=cat_y_trainData, epochs=40, batch_size=32,\n",
        "              validation_data=(X_testData, cat_y_testData), callbacks=[early_stoping])"
      ],
      "metadata": {
        "colab": {
          "base_uri": "https://localhost:8080/"
        },
        "id": "UIXTIlDZFZAo",
        "outputId": "bc3827d0-e010-4239-c001-c1367863d543"
      },
      "execution_count": 55,
      "outputs": [
        {
          "output_type": "stream",
          "name": "stdout",
          "text": [
            "Epoch 1/40\n",
            "313/313 [==============================] - 3s 8ms/step - loss: 0.4471 - accuracy: 0.8349 - val_loss: 0.8529 - val_accuracy: 0.7378\n",
            "Epoch 2/40\n",
            "313/313 [==============================] - 2s 7ms/step - loss: 0.4158 - accuracy: 0.8478 - val_loss: 0.8772 - val_accuracy: 0.7377\n",
            "Epoch 3/40\n",
            "313/313 [==============================] - 3s 9ms/step - loss: 0.3825 - accuracy: 0.8603 - val_loss: 0.9930 - val_accuracy: 0.7237\n",
            "Epoch 4/40\n",
            "313/313 [==============================] - 2s 7ms/step - loss: 0.3728 - accuracy: 0.8621 - val_loss: 0.9829 - val_accuracy: 0.7329\n",
            "Epoch 5/40\n",
            "313/313 [==============================] - 3s 9ms/step - loss: 0.3307 - accuracy: 0.8800 - val_loss: 1.1707 - val_accuracy: 0.7043\n",
            "Epoch 6/40\n",
            "313/313 [==============================] - 2s 7ms/step - loss: 0.3248 - accuracy: 0.8806 - val_loss: 1.0778 - val_accuracy: 0.7242\n",
            "Epoch 7/40\n",
            "313/313 [==============================] - 2s 7ms/step - loss: 0.3042 - accuracy: 0.8882 - val_loss: 1.2034 - val_accuracy: 0.6868\n",
            "Epoch 8/40\n",
            "313/313 [==============================] - 3s 9ms/step - loss: 0.2952 - accuracy: 0.8923 - val_loss: 1.1134 - val_accuracy: 0.7186\n",
            "Epoch 9/40\n",
            "313/313 [==============================] - 2s 7ms/step - loss: 0.2991 - accuracy: 0.8890 - val_loss: 1.0843 - val_accuracy: 0.7395\n",
            "Epoch 10/40\n",
            "313/313 [==============================] - 3s 9ms/step - loss: 0.2801 - accuracy: 0.9004 - val_loss: 1.0280 - val_accuracy: 0.7275\n",
            "Epoch 11/40\n",
            "313/313 [==============================] - 3s 9ms/step - loss: 0.2614 - accuracy: 0.9073 - val_loss: 1.1662 - val_accuracy: 0.7312\n"
          ]
        },
        {
          "output_type": "execute_result",
          "data": {
            "text/plain": [
              "<keras.callbacks.History at 0x7fae34465650>"
            ]
          },
          "metadata": {},
          "execution_count": 55
        }
      ]
    },
    {
      "cell_type": "markdown",
      "source": [
        "###loss function and accuracy metric"
      ],
      "metadata": {
        "id": "7p2dTavjFvfT"
      }
    },
    {
      "cell_type": "code",
      "source": [
        "plot_history3 = pd.DataFrame(our_CNN_model3.history.history)\n",
        "plot_history3[['accuracy', 'val_accuracy']].plot()"
      ],
      "metadata": {
        "colab": {
          "base_uri": "https://localhost:8080/",
          "height": 282
        },
        "outputId": "e9bf0e27-45a1-4d45-e7e5-000dabac97f6",
        "id": "8yKvniiyFvfT"
      },
      "execution_count": 56,
      "outputs": [
        {
          "output_type": "execute_result",
          "data": {
            "text/plain": [
              "<matplotlib.axes._subplots.AxesSubplot at 0x7fae34c2abd0>"
            ]
          },
          "metadata": {},
          "execution_count": 56
        },
        {
          "output_type": "display_data",
          "data": {
            "text/plain": [
              "<Figure size 432x288 with 1 Axes>"
            ],
            "image/png": "[encoded data removed]"
          },
          "metadata": {
            "needs_background": "light"
          }
        }
      ]
    },
    {
      "cell_type": "markdown",
      "source": [
        "###plot model loss history"
      ],
      "metadata": {
        "id": "4w7WQldAFvfU"
      }
    },
    {
      "cell_type": "code",
      "source": [
        "plot_history3[['loss', 'val_loss']].plot()"
      ],
      "metadata": {
        "colab": {
          "base_uri": "https://localhost:8080/",
          "height": 282
        },
        "outputId": "8671f93a-d1ce-4f71-8535-3ad3b844dfa0",
        "id": "3HB7UvdsFvfU"
      },
      "execution_count": 57,
      "outputs": [
        {
          "output_type": "execute_result",
          "data": {
            "text/plain": [
              "<matplotlib.axes._subplots.AxesSubplot at 0x7fae34bab390>"
            ]
          },
          "metadata": {},
          "execution_count": 57
        },
        {
          "output_type": "display_data",
          "data": {
            "text/plain": [
              "<Figure size 432x288 with 1 Axes>"
            ],
            "image/png": "[encoded data removed]"
          },
          "metadata": {
            "needs_background": "light"
          }
        }
      ]
    },
    {
      "cell_type": "markdown",
      "source": [
        "##Evalute the data"
      ],
      "metadata": {
        "id": "Bpl2pIqlFvfU"
      }
    },
    {
      "cell_type": "code",
      "source": [
        "our_CNN_model3.evaluate(X_testData, cat_y_testData)"
      ],
      "metadata": {
        "colab": {
          "base_uri": "https://localhost:8080/"
        },
        "outputId": "63c15fe9-f62e-4276-8041-162798c44368",
        "id": "KNVXlYKWFvfU"
      },
      "execution_count": 58,
      "outputs": [
        {
          "output_type": "stream",
          "name": "stdout",
          "text": [
            "313/313 [==============================] - 1s 3ms/step - loss: 0.8529 - accuracy: 0.7378\n"
          ]
        },
        {
          "output_type": "execute_result",
          "data": {
            "text/plain": [
              "[0.8528999090194702, 0.7378000020980835]"
            ]
          },
          "metadata": {},
          "execution_count": 58
        }
      ]
    }
  ]
}